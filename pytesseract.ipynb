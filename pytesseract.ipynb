{
 "cells": [
  {
   "cell_type": "markdown",
   "id": "chief-cincinnati",
   "metadata": {},
   "source": [
    "## This notebook illustrates various Pytesseract operations "
   ]
  },
  {
   "cell_type": "code",
   "execution_count": 1,
   "id": "solved-resident",
   "metadata": {},
   "outputs": [],
   "source": [
    "try:\n",
    "    from PIL import Image\n",
    "except ImportError:\n",
    "    import Image\n",
    "import pytesseract\n"
   ]
  },
  {
   "cell_type": "markdown",
   "id": "invisible-aspect",
   "metadata": {},
   "source": [
    "### How to convert an Image to String "
   ]
  },
  {
   "cell_type": "code",
   "execution_count": 2,
   "id": "smaller-press",
   "metadata": {},
   "outputs": [
    {
     "name": "stdout",
     "output_type": "stream",
     "text": [
      "ABC Ventures\n",
      "\n",
      "BILL TO INVOICE # 101\n",
      "XYZ InfoTech INVOICE DATE 28/06/2020\n",
      "DLF Phase 3\n",
      "\n",
      "Gurgaon\n",
      "\n",
      "Invoice Total ¥ 52,000.00\n",
      "\n",
      "DESCRIPTION AMOUNT\n",
      "Laptop 40,000.00\n",
      "Headphone 2,000.00\n",
      "Bluetooth Speaker 8,000.00\n",
      "Screen Guard 2,000.00\n",
      "\n",
      "TERMS & CONDITIONS\n",
      "\n",
      "Payment is due within 15 days\n",
      "\f",
      "\n"
     ]
    }
   ],
   "source": [
    "print(pytesseract.image_to_string(Image.open('invoice.jpg'), lang='eng'))"
   ]
  },
  {
   "cell_type": "markdown",
   "id": "controlling-tissue",
   "metadata": {},
   "source": [
    "### How to Timeout/Terminate the tesseract job "
   ]
  },
  {
   "cell_type": "code",
   "execution_count": 3,
   "id": "aquatic-garlic",
   "metadata": {},
   "outputs": [
    {
     "name": "stdout",
     "output_type": "stream",
     "text": [
      "ABC Ventures\n",
      "\n",
      "BILL TO INVOICE # 101\n",
      "XYZ InfoTech INVOICE DATE 28/06/2020\n",
      "DLF Phase 3\n",
      "\n",
      "Gurgaon\n",
      "\n",
      "Invoice Total ¥ 52,000.00\n",
      "\n",
      "DESCRIPTION AMOUNT\n",
      "Laptop 40,000.00\n",
      "Headphone 2,000.00\n",
      "Bluetooth Speaker 8,000.00\n",
      "Screen Guard 2,000.00\n",
      "\n",
      "TERMS & CONDITIONS\n",
      "\n",
      "Payment is due within 15 days\n",
      "\f",
      "\n"
     ]
    }
   ],
   "source": [
    "print(pytesseract.image_to_string('invoice.jpg', timeout=20)) # Timeout after 20 seconds"
   ]
  },
  {
   "cell_type": "markdown",
   "id": "regional-prescription",
   "metadata": {},
   "source": [
    "### Get Bounding Box Estimates"
   ]
  },
  {
   "cell_type": "code",
   "execution_count": 4,
   "id": "julian-semester",
   "metadata": {},
   "outputs": [
    {
     "name": "stdout",
     "output_type": "stream",
     "text": [
      "A 158 2050 170 2074 0\n",
      "B 170 2050 182 2074 0\n",
      "C 190 2049 220 2074 0\n",
      "V 240 2050 247 2074 0\n",
      "e 247 2050 262 2074 0\n",
      "n 266 2049 279 2068 0\n",
      "t 284 2050 299 2068 0\n",
      "u 302 2049 311 2073 0\n",
      "r 319 2049 330 2068 0\n",
      "e 337 2049 356 2068 0\n",
      "s 364 2049 381 2068 0\n",
      "B 160 1826 172 1850 0\n",
      "I 184 1826 190 1850 0\n",
      "L 194 1826 209 1850 0\n",
      "L 214 1826 231 1850 0\n",
      "T 242 1826 261 1850 0\n",
      "O 263 1825 287 1850 0\n",
      "I 982 1826 988 1850 0\n",
      "N 995 1826 1011 1850 0\n",
      "V 1014 1826 1030 1850 0\n",
      "O 1030 1826 1036 1850 0\n",
      "I 1047 1825 1060 1850 0\n",
      "C 1066 1825 1083 1850 0\n",
      "E 1097 1826 1109 1850 0\n",
      "# 1126 1825 1145 1850 0\n",
      "1 1453 1828 1461 1848 0\n",
      "0 1467 1827 1474 1848 0\n",
      "1 1484 1828 1491 1848 0\n",
      "X 158 1773 168 1793 0\n",
      "Y 168 1773 176 1793 0\n",
      "Z 185 1773 206 1793 0\n",
      "I 222 1773 225 1793 0\n",
      "n 229 1773 239 1788 0\n",
      "f 243 1773 252 1793 0\n",
      "o 252 1772 265 1788 0\n",
      "T 266 1773 280 1793 0\n",
      "e 284 1772 293 1788 0\n",
      "c 299 1772 306 1788 0\n",
      "h 314 1773 326 1793 0\n",
      "I 982 1768 988 1792 0\n",
      "N 994 1768 1011 1792 0\n",
      "V 1014 1768 1033 1792 0\n",
      "O 1037 1767 1049 1792 0\n",
      "I 1049 1767 1060 1792 0\n",
      "C 1065 1767 1086 1792 0\n",
      "E 1097 1768 1116 1792 0\n",
      "D 1128 1768 1146 1792 0\n",
      "A 1150 1768 1166 1792 0\n",
      "T 1175 1768 1187 1792 0\n",
      "E 1197 1768 1216 1792 0\n",
      "2 1358 1770 1366 1790 0\n",
      "8 1374 1770 1381 1790 0\n",
      "/ 1388 1769 1395 1790 0\n",
      "0 1397 1769 1408 1790 0\n",
      "6 1412 1769 1420 1790 0\n",
      "/ 1427 1769 1433 1790 0\n",
      "2 1435 1770 1446 1790 0\n",
      "0 1451 1770 1460 1790 0\n",
      "2 1466 1770 1474 1790 0\n",
      "0 1482 1769 1495 1790 0\n",
      "D 160 1733 168 1753 0\n",
      "L 168 1733 177 1753 0\n",
      "F 182 1733 206 1753 0\n",
      "P 220 1733 228 1753 0\n",
      "h 228 1733 236 1753 0\n",
      "a 242 1733 251 1753 0\n",
      "s 256 1733 267 1748 0\n",
      "e 270 1733 292 1748 0\n",
      "3 306 1733 319 1753 0\n",
      "G 160 1693 172 1713 0\n",
      "u 172 1693 178 1713 0\n",
      "r 186 1693 202 1708 0\n",
      "g 205 1687 214 1708 0\n",
      "a 214 1687 218 1708 0\n",
      "o 226 1692 234 1708 0\n",
      "n 243 1692 264 1708 0\n",
      "I 163 1504 175 1560 0\n",
      "n 188 1504 220 1545 0\n",
      "v 228 1504 256 1545 0\n",
      "o 256 1504 269 1545 0\n",
      "i 292 1503 315 1545 0\n",
      "c 324 1504 334 1560 0\n",
      "e 360 1503 416 1545 0\n",
      "T 448 1504 467 1560 0\n",
      "o 467 1504 493 1560 0\n",
      "t 503 1503 539 1545 0\n",
      "a 543 1503 567 1558 0\n",
      "l 571 1503 628 1560 0\n",
      "¥ 1070 1508 1116 1565 0\n",
      "5 1145 1507 1176 1563 0\n",
      "2 1187 1508 1218 1564 0\n",
      ", 1232 1496 1244 1519 0\n",
      "0 1253 1507 1283 1564 0\n",
      "0 1296 1507 1316 1564 0\n",
      "0 1339 1507 1358 1564 0\n",
      ". 1384 1508 1396 1519 0\n",
      "0 1404 1507 1433 1564 0\n",
      "0 1447 1507 1484 1564 0\n",
      "D 160 1336 175 1360 0\n",
      "E 184 1336 195 1360 0\n",
      "S 206 1335 216 1360 0\n",
      "C 216 1335 225 1360 0\n",
      "R 237 1335 249 1360 0\n",
      "I 257 1336 275 1360 0\n",
      "P 277 1336 296 1360 0\n",
      "T 296 1336 305 1360 0\n",
      "I 316 1336 334 1360 0\n",
      "O 338 1335 357 1360 0\n",
      "N 364 1336 383 1360 0\n",
      "A 1350 1336 1370 1360 0\n",
      "M 1376 1336 1393 1360 0\n",
      "O 1403 1335 1416 1360 0\n",
      "U 1416 1335 1426 1360 0\n",
      "N 1438 1335 1449 1360 0\n",
      "T 1461 1336 1496 1360 0\n",
      "L 160 1268 168 1288 0\n",
      "a 175 1267 182 1283 0\n",
      "p 191 1262 198 1283 0\n",
      "t 205 1268 210 1287 0\n",
      "o 213 1268 221 1283 0\n",
      "p 229 1262 242 1283 0\n",
      "4 1373 1268 1381 1288 0\n",
      "0 1381 1268 1387 1288 0\n",
      ", 1395 1264 1409 1288 0\n",
      "0 1412 1268 1423 1288 0\n",
      "0 1423 1268 1426 1288 0\n",
      "0 1434 1267 1441 1288 0\n",
      ". 1449 1268 1463 1288 0\n",
      "0 1466 1268 1478 1288 0\n",
      "0 1482 1268 1495 1288 0\n",
      "H 160 1204 170 1224 0\n",
      "e 179 1204 188 1219 0\n",
      "a 195 1204 202 1219 0\n",
      "d 202 1204 208 1219 0\n",
      "p 216 1204 223 1224 0\n",
      "h 232 1198 248 1224 0\n",
      "o 256 1203 264 1219 0\n",
      "n 272 1204 279 1219 0\n",
      "e 287 1203 301 1219 0\n",
      "2 1389 1204 1399 1224 0\n",
      ", 1406 1200 1409 1207 0\n",
      "0 1412 1204 1422 1224 0\n",
      "0 1428 1203 1437 1224 0\n",
      "0 1443 1204 1453 1224 0\n",
      ". 1460 1204 1463 1207 0\n",
      "0 1466 1204 1476 1224 0\n",
      "0 1482 1204 1495 1224 0\n",
      "B 160 1140 170 1160 0\n",
      "l 178 1140 181 1160 0\n",
      "u 185 1139 193 1155 0\n",
      "e 199 1139 210 1155 0\n",
      "t 214 1140 221 1159 0\n",
      "o 222 1140 232 1155 0\n",
      "o 238 1140 249 1155 0\n",
      "t 253 1140 260 1159 0\n",
      "h 262 1140 274 1160 0\n",
      "S 284 1140 300 1160 0\n",
      "p 303 1134 312 1155 0\n",
      "e 318 1139 327 1155 0\n",
      "a 333 1139 341 1155 0\n",
      "k 341 1139 347 1155 0\n",
      "e 355 1140 362 1160 0\n",
      "r 369 1139 387 1155 0\n",
      "8 1389 1140 1399 1160 0\n",
      ", 1406 1136 1409 1143 0\n",
      "0 1412 1140 1422 1160 0\n",
      "0 1428 1139 1437 1160 0\n",
      "0 1443 1140 1453 1160 0\n",
      ". 1460 1140 1463 1143 0\n",
      "0 1466 1140 1476 1160 0\n",
      "0 1482 1140 1495 1160 0\n",
      "S 159 1075 168 1096 0\n",
      "c 168 1075 176 1096 0\n",
      "r 182 1075 197 1091 0\n",
      "e 201 1075 212 1091 0\n",
      "e 216 1076 226 1091 0\n",
      "n 232 1076 245 1091 0\n",
      "G 255 1075 268 1096 0\n",
      "u 268 1075 274 1096 0\n",
      "a 280 1076 289 1091 0\n",
      "r 296 1076 305 1091 0\n",
      "d 311 1076 329 1096 0\n",
      "2 1389 1076 1399 1096 0\n",
      ", 1406 1072 1409 1079 0\n",
      "0 1412 1076 1424 1096 0\n",
      "0 1428 1075 1437 1096 0\n",
      "0 1443 1076 1450 1096 0\n",
      ". 1460 1076 1463 1079 0\n",
      "0 1466 1076 1475 1096 0\n",
      "0 1482 1076 1495 1096 0\n",
      "T 159 283 175 307 0\n",
      "E 181 283 196 307 0\n",
      "R 203 283 216 307 0\n",
      "M 216 283 224 307 0\n",
      "S 237 282 267 307 0\n",
      "& 286 282 308 307 0\n",
      "C 319 282 340 307 0\n",
      "O 343 282 358 307 0\n",
      "N 358 282 366 307 0\n",
      "D 377 283 389 307 0\n",
      "I 396 283 413 307 0\n",
      "T 418 283 435 307 0\n",
      "I 447 283 452 307 0\n",
      "O 456 282 476 307 0\n",
      "N 482 283 496 307 0\n",
      "S 505 282 525 307 0\n",
      "P 160 193 169 213 0\n",
      "a 169 193 176 213 0\n",
      "y 183 193 191 208 0\n",
      "m 198 187 206 208 0\n",
      "e 213 193 228 208 0\n",
      "n 230 192 243 208 0\n",
      "t 246 193 258 208 0\n",
      "i 260 193 268 212 0\n",
      "s 278 192 295 213 0\n",
      "d 304 193 316 213 0\n",
      "u 320 193 328 208 0\n",
      "e 335 192 345 208 0\n",
      "w 357 193 364 208 0\n",
      "i 364 193 377 208 0\n",
      "t 379 193 389 213 0\n",
      "h 393 193 401 213 0\n",
      "i 408 193 411 213 0\n",
      "n 414 193 426 208 0\n",
      "1 439 193 446 213 0\n",
      "5 452 192 466 213 0\n",
      "d 475 192 488 213 0\n",
      "a 491 193 501 208 0\n",
      "y 506 187 514 208 0\n",
      "s 520 193 532 208 0\n",
      "\n"
     ]
    }
   ],
   "source": [
    "print(pytesseract.image_to_boxes(Image.open('invoice.jpg')))"
   ]
  },
  {
   "cell_type": "markdown",
   "id": "smooth-romania",
   "metadata": {},
   "source": [
    "### Get verbose data like boxes, confidences, line and page numbers"
   ]
  },
  {
   "cell_type": "code",
   "execution_count": 6,
   "id": "representative-headset",
   "metadata": {},
   "outputs": [
    {
     "name": "stdout",
     "output_type": "stream",
     "text": [
      "level\tpage_num\tblock_num\tpar_num\tline_num\tword_num\tleft\ttop\twidth\theight\tconf\ttext\n",
      "1\t1\t0\t0\t0\t0\t0\t0\t1653\t2339\t-1\t\n",
      "2\t1\t1\t0\t0\t0\t158\t265\t1337\t387\t-1\t\n",
      "3\t1\t1\t1\t0\t0\t158\t265\t223\t25\t-1\t\n",
      "4\t1\t1\t1\t1\t0\t158\t265\t223\t25\t-1\t\n",
      "5\t1\t1\t1\t1\t1\t158\t265\t71\t25\t95\tABC\n",
      "5\t1\t1\t1\t1\t2\t240\t265\t141\t25\t96\tVentures\n",
      "3\t1\t1\t2\t0\t0\t158\t489\t1337\t117\t-1\t\n",
      "4\t1\t1\t2\t1\t0\t160\t489\t1331\t25\t-1\t\n",
      "5\t1\t1\t2\t1\t1\t160\t489\t71\t24\t96\tBILL\n",
      "5\t1\t1\t2\t1\t2\t242\t489\t45\t25\t95\tTO\n",
      "5\t1\t1\t2\t1\t3\t982\t489\t134\t25\t93\tINVOICE\n",
      "5\t1\t1\t2\t1\t4\t1126\t489\t19\t25\t93\t#\n",
      "5\t1\t1\t2\t1\t5\t1453\t491\t38\t21\t96\t101\n",
      "4\t1\t1\t2\t2\t0\t158\t546\t1337\t26\t-1\t\n",
      "5\t1\t1\t2\t2\t1\t158\t546\t54\t20\t94\tXYZ\n",
      "5\t1\t1\t2\t2\t2\t222\t546\t104\t21\t94\tInfoTech\n",
      "5\t1\t1\t2\t2\t3\t982\t547\t134\t25\t95\tINVOICE\n",
      "5\t1\t1\t2\t2\t4\t1128\t547\t88\t24\t96\tDATE\n",
      "5\t1\t1\t2\t2\t5\t1358\t549\t137\t21\t96\t28/06/2020\n",
      "4\t1\t1\t2\t3\t0\t160\t586\t159\t20\t-1\t\n",
      "5\t1\t1\t2\t3\t1\t160\t586\t50\t20\t91\tDLF\n",
      "5\t1\t1\t2\t3\t2\t220\t586\t76\t20\t96\tPhase\n",
      "5\t1\t1\t2\t3\t3\t306\t586\t13\t20\t95\t3\n",
      "3\t1\t1\t3\t0\t0\t160\t626\t104\t26\t-1\t\n",
      "4\t1\t1\t3\t1\t0\t160\t626\t104\t26\t-1\t\n",
      "5\t1\t1\t3\t1\t1\t160\t626\t104\t26\t96\tGurgaon\n",
      "2\t1\t2\t0\t0\t0\t163\t774\t1321\t69\t-1\t\n",
      "3\t1\t2\t1\t0\t0\t163\t774\t1321\t69\t-1\t\n",
      "4\t1\t2\t1\t1\t0\t163\t774\t1321\t69\t-1\t\n",
      "5\t1\t2\t1\t1\t1\t163\t779\t259\t57\t96\tInvoice\n",
      "5\t1\t2\t1\t1\t2\t448\t779\t180\t57\t96\tTotal\n",
      "5\t1\t2\t1\t1\t3\t1070\t774\t46\t57\t29\t¥\n",
      "5\t1\t2\t1\t1\t4\t1145\t775\t339\t68\t91\t52,000.00\n",
      "2\t1\t3\t0\t0\t0\t159\t979\t1337\t288\t-1\t\n",
      "3\t1\t3\t1\t0\t0\t159\t979\t1337\t288\t-1\t\n",
      "4\t1\t3\t1\t1\t0\t160\t979\t1336\t25\t-1\t\n",
      "5\t1\t3\t1\t1\t1\t160\t979\t223\t25\t95\tDESCRIPTION\n",
      "5\t1\t3\t1\t1\t2\t1350\t979\t146\t25\t96\tAMOUNT\n",
      "4\t1\t3\t1\t2\t0\t160\t1051\t1335\t26\t-1\t\n",
      "5\t1\t3\t1\t2\t1\t160\t1051\t82\t26\t96\tLaptop\n",
      "5\t1\t3\t1\t2\t2\t1373\t1051\t122\t24\t95\t40,000.00\n",
      "4\t1\t3\t1\t3\t0\t160\t1115\t1335\t26\t-1\t\n",
      "5\t1\t3\t1\t3\t1\t160\t1115\t141\t26\t96\tHeadphone\n",
      "5\t1\t3\t1\t3\t2\t1389\t1115\t106\t24\t96\t2,000.00\n",
      "4\t1\t3\t1\t4\t0\t160\t1179\t1335\t26\t-1\t\n",
      "5\t1\t3\t1\t4\t1\t160\t1179\t114\t21\t96\tBluetooth\n",
      "5\t1\t3\t1\t4\t2\t284\t1179\t103\t26\t96\tSpeaker\n",
      "5\t1\t3\t1\t4\t3\t1389\t1179\t106\t24\t96\t8,000.00\n",
      "4\t1\t3\t1\t5\t0\t159\t1243\t1336\t24\t-1\t\n",
      "5\t1\t3\t1\t5\t1\t159\t1243\t86\t21\t96\tScreen\n",
      "5\t1\t3\t1\t5\t2\t255\t1243\t74\t21\t96\tGuard\n",
      "5\t1\t3\t1\t5\t3\t1389\t1243\t106\t24\t94\t2,000.00\n",
      "2\t1\t4\t0\t0\t0\t159\t2032\t366\t25\t-1\t\n",
      "3\t1\t4\t1\t0\t0\t159\t2032\t366\t25\t-1\t\n",
      "4\t1\t4\t1\t1\t0\t159\t2032\t366\t25\t-1\t\n",
      "5\t1\t4\t1\t1\t1\t159\t2032\t114\t25\t92\tTERMS\n",
      "5\t1\t4\t1\t1\t2\t286\t2032\t22\t25\t92\t&\n",
      "5\t1\t4\t1\t1\t3\t319\t2032\t206\t25\t96\tCONDITIONS\n",
      "2\t1\t5\t0\t0\t0\t160\t2126\t372\t26\t-1\t\n",
      "3\t1\t5\t1\t0\t0\t160\t2126\t372\t26\t-1\t\n",
      "4\t1\t5\t1\t1\t0\t160\t2126\t372\t26\t-1\t\n",
      "5\t1\t5\t1\t1\t1\t160\t2126\t98\t26\t94\tPayment\n",
      "5\t1\t5\t1\t1\t2\t260\t2126\t35\t21\t95\tis\n",
      "5\t1\t5\t1\t1\t3\t304\t2126\t44\t21\t96\tdue\n",
      "5\t1\t5\t1\t1\t4\t357\t2126\t69\t20\t96\twithin\n",
      "5\t1\t5\t1\t1\t5\t439\t2126\t27\t21\t96\t15\n",
      "5\t1\t5\t1\t1\t6\t475\t2126\t57\t26\t96\tdays\n",
      "\n"
     ]
    }
   ],
   "source": [
    "print(pytesseract.image_to_data(Image.open('invoice.jpg')))"
   ]
  },
  {
   "cell_type": "markdown",
   "id": "superior-coordinator",
   "metadata": {},
   "source": [
    "### Get information about orientation and script detection"
   ]
  },
  {
   "cell_type": "code",
   "execution_count": 7,
   "id": "unique-apparel",
   "metadata": {},
   "outputs": [
    {
     "name": "stdout",
     "output_type": "stream",
     "text": [
      "Page number: 0\n",
      "Orientation in degrees: 0\n",
      "Rotate: 0\n",
      "Orientation confidence: 8.98\n",
      "Script: Latin\n",
      "Script confidence: 2.42\n",
      "\n"
     ]
    }
   ],
   "source": [
    "print(pytesseract.image_to_osd(Image.open('invoice.jpg')))"
   ]
  },
  {
   "cell_type": "markdown",
   "id": "curious-uganda",
   "metadata": {},
   "source": [
    "### Get a searchable PDF"
   ]
  },
  {
   "cell_type": "code",
   "execution_count": 8,
   "id": "polyphonic-criminal",
   "metadata": {},
   "outputs": [],
   "source": [
    "pdf = pytesseract.image_to_pdf_or_hocr('invoice.jpg', extension='pdf')\n",
    "with open('image.pdf', 'w+b') as f:\n",
    "    f.write(pdf) # pdf type is bytes by default"
   ]
  },
  {
   "cell_type": "markdown",
   "id": "hairy-interval",
   "metadata": {},
   "source": [
    "### Get HOCR output"
   ]
  },
  {
   "cell_type": "code",
   "execution_count": 9,
   "id": "nervous-induction",
   "metadata": {},
   "outputs": [
    {
     "data": {
      "text/plain": [
       "b'<?xml version=\"1.0\" encoding=\"UTF-8\"?>\\n<!DOCTYPE html PUBLIC \"-//W3C//DTD XHTML 1.0 Transitional//EN\"\\n    \"http://www.w3.org/TR/xhtml1/DTD/xhtml1-transitional.dtd\">\\n<html xmlns=\"http://www.w3.org/1999/xhtml\" xml:lang=\"en\" lang=\"en\">\\n <head>\\n  <title></title>\\n<meta http-equiv=\"Content-Type\" content=\"text/html;charset=utf-8\" />\\n  <meta name=\\'ocr-system\\' content=\\'tesseract v4.0.0.20181030\\' />\\n  <meta name=\\'ocr-capabilities\\' content=\\'ocr_page ocr_carea ocr_par ocr_line ocrx_word ocrp_wconf\\'/>\\n</head>\\n<body>\\n  <div class=\\'ocr_page\\' id=\\'page_1\\' title=\\'image \"C:\\\\Users\\\\amrul\\\\programming\\\\udemy_courses\\\\python_ocr\\\\pytesseract\\\\image.jpg\"; bbox 0 0 620 1219; ppageno 0\\'>\\n   <div class=\\'ocr_carea\\' id=\\'block_1_1\\' title=\"bbox 41 90 591 220\">\\n    <p class=\\'ocr_par\\' id=\\'par_1_1\\' lang=\\'eng\\' title=\"bbox 41 90 591 220\">\\n     <span class=\\'ocr_line\\' id=\\'line_1_1\\' title=\"bbox 41 90 591 130; baseline 0.005 -6; x_size 20.888889; x_descenders 4.8888888; x_ascenders 4.8888888\">\\n      <span class=\\'ocrx_word\\' id=\\'word_1_1\\' title=\\'bbox 41 108 171 125; x_wconf 96\\'>GARDENIA</span>\\n      <span class=\\'ocrx_word\\' id=\\'word_1_2\\' title=\\'bbox 181 90 305 126; x_wconf 96\\'>BAKERIES</span>\\n      <span class=\\'ocrx_word\\' id=\\'word_1_3\\' title=\\'bbox 313 109 362 129; x_wconf 93\\'>(KL)</span>\\n      <span class=\\'ocrx_word\\' id=\\'word_1_4\\' title=\\'bbox 369 110 416 126; x_wconf 96\\'>SDN</span>\\n      <span class=\\'ocrx_word\\' id=\\'word_1_5\\' title=\\'bbox 424 110 466 127; x_wconf 87\\'>BHD</span>\\n      <span class=\\'ocrx_word\\' id=\\'word_1_6\\' title=\\'bbox 467 110 559 130; x_wconf 93\\'>(139386</span>\\n      <span class=\\'ocrx_word\\' id=\\'word_1_7\\' title=\\'bbox 568 111 591 129; x_wconf 92\\'>X)</span>\\n     </span>\\n     <span class=\\'ocr_line\\' id=\\'line_1_2\\' title=\"bbox 181 131 446 153; baseline 0.004 -5; x_size 22.279999; x_descenders 5.2799997; x_ascenders 5\">\\n      <span class=\\'ocrx_word\\' id=\\'word_1_8\\' title=\\'bbox 181 131 214 148; x_wconf 67\\'>Lot</span>\\n      <span class=\\'ocrx_word\\' id=\\'word_1_9\\' title=\\'bbox 222 132 239 152; x_wconf 67\\'>3,</span>\\n      <span class=\\'ocrx_word\\' id=\\'word_1_10\\' title=\\'bbox 250 132 304 150; x_wconf 93\\'>Jalan</span>\\n      <span class=\\'ocrx_word\\' id=\\'word_1_11\\' title=\\'bbox 313 132 389 149; x_wconf 92\\'>Pelabur</span>\\n      <span class=\\'ocrx_word\\' id=\\'word_1_12\\' title=\\'bbox 400 132 446 153; x_wconf 95\\'>23/1,</span>\\n     </span>\\n     <span class=\\'ocr_line\\' id=\\'line_1_3\\' title=\"bbox 166 145 459 177; baseline 0 -5; x_size 20; x_descenders 3; x_ascenders 5\">\\n      <span class=\\'ocrx_word\\' id=\\'word_1_13\\' title=\\'bbox 166 154 224 172; x_wconf 93\\'>40300</span>\\n      <span class=\\'ocrx_word\\' id=\\'word_1_14\\' title=\\'bbox 232 145 282 172; x_wconf 95\\'>Shah</span>\\n      <span class=\\'ocrx_word\\' id=\\'word_1_15\\' title=\\'bbox 291 156 351 175; x_wconf 96\\'>Alam,</span>\\n      <span class=\\'ocrx_word\\' id=\\'word_1_16\\' title=\\'bbox 363 145 459 177; x_wconf 94\\'>Selangor.</span>\\n     </span>\\n     <span class=\\'ocr_line\\' id=\\'line_1_4\\' title=\"bbox 127 177 503 197; baseline 0.005 -2; x_size 23.5; x_descenders 5.5; x_ascenders 5.5\">\\n      <span class=\\'ocrx_word\\' id=\\'word_1_17\\' title=\\'bbox 127 177 165 196; x_wconf 90\\'>Tel:</span>\\n      <span class=\\'ocrx_word\\' id=\\'word_1_18\\' title=\\'bbox 173 178 201 195; x_wconf 87\\'>03-</span>\\n      <span class=\\'ocrx_word\\' id=\\'word_1_19\\' title=\\'bbox 213 178 306 196; x_wconf 79\\'>55423228</span>\\n      <span class=\\'ocrx_word\\' id=\\'word_1_20\\' title=\\'bbox 326 178 401 196; x_wconf 76\\'>Fax:03-</span>\\n      <span class=\\'ocrx_word\\' id=\\'word_1_21\\' title=\\'bbox 411 179 503 197; x_wconf 90\\'>$5423213</span>\\n     </span>\\n     <span class=\\'ocr_line\\' id=\\'line_1_5\\' title=\"bbox 198 202 433 220; baseline 0.004 -1; x_size 23.5; x_descenders 5.5; x_ascenders 5.5\">\\n      <span class=\\'ocrx_word\\' id=\\'word_1_22\\' title=\\'bbox 198 202 240 219; x_wconf 84\\'>GST</span>\\n      <span class=\\'ocrx_word\\' id=\\'word_1_23\\' title=\\'bbox 241 202 284 220; x_wconf 82\\'>TD:</span>\\n      <span class=\\'ocrx_word\\' id=\\'word_1_24\\' title=\\'bbox 292 202 351 220; x_wconf 90\\'>00038</span>\\n      <span class=\\'ocrx_word\\' id=\\'word_1_25\\' title=\\'bbox 356 202 433 220; x_wconf 90\\'>1399040</span>\\n     </span>\\n    </p>\\n   </div>\\n   <div class=\\'ocr_carea\\' id=\\'block_1_2\\' title=\"bbox 144 244 511 333\">\\n    <p class=\\'ocr_par\\' id=\\'par_1_2\\' lang=\\'eng\\' title=\"bbox 144 244 511 333\">\\n     <span class=\\'ocr_line\\' id=\\'line_1_6\\' title=\"bbox 144 244 484 275; baseline 0.003 -1; x_size 37.5; x_descenders 5.5; x_ascenders 10.5\">\\n      <span class=\\'ocrx_word\\' id=\\'word_1_26\\' title=\\'bbox 144 245 177 274; x_wconf 96\\'>TAX</span>\\n      <span class=\\'ocrx_word\\' id=\\'word_1_27\\' title=\\'bbox 193 245 272 274; x_wconf 93\\'>INVOICE</span>\\n      <span class=\\'ocrx_word\\' id=\\'word_1_28\\' title=\\'bbox 286 244 296 273; x_wconf 93\\'>/</span>\\n      <span class=\\'ocrx_word\\' id=\\'word_1_29\\' title=\\'bbox 309 246 427 275; x_wconf 83\\'>ADJUSTMENT</span>\\n      <span class=\\'ocrx_word\\' id=\\'word_1_30\\' title=\\'bbox 439 246 484 275; x_wconf 96\\'>NOTE</span>\\n     </span>\\n     <span class=\\'ocr_line\\' id=\\'line_1_7\\' title=\"bbox 253 301 511 333; baseline 0.004 -1; x_size 36.372093; x_descenders 5.3720932; x_ascenders 10\">\\n      <span class=\\'ocrx_word\\' id=\\'word_1_31\\' title=\\'bbox 253 301 299 332; x_wconf 96\\'>Cash</span>\\n      <span class=\\'ocrx_word\\' id=\\'word_1_32\\' title=\\'bbox 313 303 346 332; x_wconf 93\\'>Inv</span>\\n      <span class=\\'ocrx_word\\' id=\\'word_1_33\\' title=\\'bbox 359 304 401 332; x_wconf 89\\'>No.:</span>\\n      <span class=\\'ocrx_word\\' id=\\'word_1_34\\' title=\\'bbox 418 303 511 333; x_wconf 0\\'>7815710</span>\\n     </span>\\n    </p>\\n   </div>\\n   <div class=\\'ocr_carea\\' id=\\'block_1_3\\' title=\"bbox 33 340 514 360\">\\n    <p class=\\'ocr_par\\' id=\\'par_1_3\\' lang=\\'eng\\' title=\"bbox 33 340 514 360\">\\n     <span class=\\'ocr_line\\' id=\\'line_1_8\\' title=\"bbox 33 340 514 360; baseline 0.008 -4; x_size 20; x_descenders 5; x_ascenders 5\">\\n      <span class=\\'ocrx_word\\' id=\\'word_1_35\\' title=\\'bbox 33 340 88 357; x_wconf 0\\'>Vos</span>\\n      <span class=\\'ocrx_word\\' id=\\'word_1_36\\' title=\\'bbox 94 341 112 357; x_wconf 0\\'>14</span>\\n      <span class=\\'ocrx_word\\' id=\\'word_1_37\\' title=\\'bbox 328 344 381 359; x_wconf 93\\'>Date:</span>\\n      <span class=\\'ocrx_word\\' id=\\'word_1_38\\' title=\\'bbox 400 344 514 360; x_wconf 93\\'>15/08/2017</span>\\n     </span>\\n    </p>\\n   </div>\\n   <div class=\\'ocr_carea\\' id=\\'block_1_4\\' title=\"bbox 32 371 373 401\">\\n    <p class=\\'ocr_par\\' id=\\'par_1_4\\' lang=\\'eng\\' title=\"bbox 32 371 373 401\">\\n     <span class=\\'ocr_line\\' id=\\'line_1_9\\' title=\"bbox 32 371 373 401; baseline 0.006 -2; x_size 39.022221; x_descenders 9.7555552; x_ascenders 9.7555552\">\\n      <span class=\\'ocrx_word\\' id=\\'word_1_39\\' title=\\'bbox 32 371 125 400; x_wconf 27\\'>HAKASSAR</span>\\n      <span class=\\'ocrx_word\\' id=\\'word_1_40\\' title=\\'bbox 140 371 196 400; x_wconf 96\\'>FRESH</span>\\n      <span class=\\'ocrx_word\\' id=\\'word_1_41\\' title=\\'bbox 210 371 280 401; x_wconf 96\\'>MARKET</span>\\n      <span class=\\'ocrx_word\\' id=\\'word_1_42\\' title=\\'bbox 293 372 326 401; x_wconf 89\\'>SON</span>\\n      <span class=\\'ocrx_word\\' id=\\'word_1_43\\' title=\\'bbox 339 372 373 401; x_wconf 87\\'>BHO</span>\\n     </span>\\n    </p>\\n   </div>\\n   <div class=\\'ocr_carea\\' id=\\'block_1_5\\' title=\"bbox 32 412 492 521\">\\n    <p class=\\'ocr_par\\' id=\\'par_1_5\\' lang=\\'eng\\' title=\"bbox 32 412 492 521\">\\n     <span class=\\'ocr_line\\' id=\\'line_1_10\\' title=\"bbox 33 412 311 431; baseline 0.004 -4; x_size 19.583332; x_descenders 4.583333; x_ascenders 4.5833335\">\\n      <span class=\\'ocrx_word\\' id=\\'word_1_44\\' title=\\'bbox 33 412 102 427; x_wconf 95\\'>GROUND</span>\\n      <span class=\\'ocrx_word\\' id=\\'word_1_45\\' title=\\'bbox 116 412 182 431; x_wconf 95\\'>FLOOR,</span>\\n      <span class=\\'ocrx_word\\' id=\\'word_1_46\\' title=\\'bbox 198 413 228 427; x_wconf 95\\'>NO.</span>\\n      <span class=\\'ocrx_word\\' id=\\'word_1_47\\' title=\\'bbox 245 413 256 428; x_wconf 81\\'>4</span>\\n      <span class=\\'ocrx_word\\' id=\\'word_1_48\\' title=\\'bbox 268 413 279 428; x_wconf 81\\'>&amp;</span>\\n      <span class=\\'ocrx_word\\' id=\\'word_1_49\\' title=\\'bbox 292 413 311 431; x_wconf 95\\'>6,</span>\\n     </span>\\n     <span class=\\'ocr_line\\' id=\\'line_1_11\\' title=\"bbox 37 435 205 454; baseline 0.012 -5; x_size 20; x_descenders 4; x_ascenders 4\">\\n      <span class=\\'ocrx_word\\' id=\\'word_1_50\\' title=\\'bbox 37 435 90 450; x_wconf 96\\'>JALAN</span>\\n      <span class=\\'ocrx_word\\' id=\\'word_1_51\\' title=\\'bbox 105 436 125 450; x_wconf 86\\'>SS</span>\\n      <span class=\\'ocrx_word\\' id=\\'word_1_52\\' title=\\'bbox 142 435 205 454; x_wconf 86\\'>15/4B,</span>\\n     </span>\\n     <span class=\\'ocr_line\\' id=\\'line_1_12\\' title=\"bbox 32 458 349 478; baseline 0.003 -5; x_size 18.277779; x_descenders 4.2777777; x_ascenders 4.2777777\">\\n      <span class=\\'ocrx_word\\' id=\\'word_1_53\\' title=\\'bbox 32 458 90 473; x_wconf 87\\'>47500</span>\\n      <span class=\\'ocrx_word\\' id=\\'word_1_54\\' title=\\'bbox 107 459 173 474; x_wconf 87\\'>SUBANG</span>\\n      <span class=\\'ocrx_word\\' id=\\'word_1_55\\' title=\\'bbox 186 459 240 478; x_wconf 91\\'>JAYA,</span>\\n      <span class=\\'ocrx_word\\' id=\\'word_1_56\\' title=\\'bbox 258 459 349 475; x_wconf 96\\'>SELANGOR</span>\\n     </span>\\n     <span class=\\'ocr_line\\' id=\\'line_1_13\\' title=\"bbox 34 479 266 500; baseline 0.009 -5; x_size 20; x_descenders 3; x_ascenders 5\">\\n      <span class=\\'ocrx_word\\' id=\\'word_1_57\\' title=\\'bbox 34 479 95 496; x_wconf 0\\'>VES:</span>\\n      <span class=\\'ocrx_word\\' id=\\'word_1_58\\' title=\\'bbox 106 479 198 500; x_wconf 87\\'>Ridzuan(</span>\\n      <span class=\\'ocrx_word\\' id=\\'word_1_59\\' title=\\'bbox 204 479 266 500; x_wconf 94\\'>11900)</span>\\n     </span>\\n     <span class=\\'ocr_line\\' id=\\'line_1_14\\' title=\"bbox 260 503 492 521; baseline 0 0; x_size 23.5; x_descenders 5.5; x_ascenders 5.5\">\\n      <span class=\\'ocrx_word\\' id=\\'word_1_60\\' title=\\'bbox 222 503 299 529; x_wconf 25\\'>___DD:</span>\\n      <span class=\\'ocrx_word\\' id=\\'word_1_61\\' title=\\'bbox 310 503 414 521; x_wconf 43\\'>1508/2017</span>\\n      <span class=\\'ocrx_word\\' id=\\'word_1_62\\' title=\\'bbox 435 504 501 530; x_wconf 42\\'>11:37,</span>\\n     </span>\\n    </p>\\n   </div>\\n   <div class=\\'ocr_carea\\' id=\\'block_1_6\\' title=\"bbox 342 89 438 94\">\\n    <p class=\\'ocr_par\\' id=\\'par_1_6\\' lang=\\'eng\\' title=\"bbox 342 89 438 94\">\\n     <span class=\\'ocr_line\\' id=\\'line_1_15\\' title=\"bbox 342 89 438 94; baseline 0 0; x_size 2.5; x_descenders -1.25; x_ascenders 1.25\">\\n      <span class=\\'ocrx_word\\' id=\\'word_1_63\\' title=\\'bbox 342 89 438 94; x_wconf 95\\'> </span>\\n     </span>\\n    </p>\\n   </div>\\n   <div class=\\'ocr_carea\\' id=\\'block_1_7\\' title=\"bbox 496 90 594 95\">\\n    <p class=\\'ocr_par\\' id=\\'par_1_7\\' lang=\\'eng\\' title=\"bbox 496 90 594 95\">\\n     <span class=\\'ocr_line\\' id=\\'line_1_16\\' title=\"bbox 496 90 594 95; baseline 0 0; x_size 2.5; x_descenders -1.25; x_ascenders 1.25\">\\n      <span class=\\'ocrx_word\\' id=\\'word_1_64\\' title=\\'bbox 496 90 594 95; x_wconf 95\\'> </span>\\n     </span>\\n    </p>\\n   </div>\\n   <div class=\\'ocr_carea\\' id=\\'block_1_8\\' title=\"bbox 28 525 80 529\">\\n    <p class=\\'ocr_par\\' id=\\'par_1_8\\' lang=\\'eng\\' title=\"bbox 28 525 80 529\">\\n     <span class=\\'ocr_line\\' id=\\'line_1_17\\' title=\"bbox 28 525 80 529; baseline 0 0; x_size 2; x_descenders -1; x_ascenders 1\">\\n      <span class=\\'ocrx_word\\' id=\\'word_1_65\\' title=\\'bbox 28 525 80 529; x_wconf 95\\'> </span>\\n     </span>\\n    </p>\\n   </div>\\n   <div class=\\'ocr_carea\\' id=\\'block_1_9\\' title=\"bbox 28 525 508 557\">\\n    <p class=\\'ocr_par\\' id=\\'par_1_9\\' lang=\\'eng\\' title=\"bbox 28 525 508 557\">\\n     <span class=\\'ocr_line\\' id=\\'line_1_18\\' title=\"bbox 28 525 508 557; baseline 0.002 -10; x_size 19; x_descenders 3; x_ascenders 4\">\\n      <span class=\\'ocrx_word\\' id=\\'word_1_66\\' title=\\'bbox 28 532 157 555; x_wconf 88\\'>Description</span>\\n      <span class=\\'ocrx_word\\' id=\\'word_1_67\\' title=\\'bbox 182 525 221 548; x_wconf 40\\'>U.P</span>\\n      <span class=\\'ocrx_word\\' id=\\'word_1_68\\' title=\\'bbox 222 525 267 556; x_wconf 72\\'>\\xe2\\x80\\x9cIss</span>\\n      <span class=\\'ocrx_word\\' id=\\'word_1_69\\' title=\\'bbox 277 533 310 549; x_wconf 87\\'>Exc</span>\\n      <span class=\\'ocrx_word\\' id=\\'word_1_70\\' title=\\'bbox 335 534 346 549; x_wconf 87\\'>D</span>\\n      <span class=\\'ocrx_word\\' id=\\'word_1_71\\' title=\\'bbox 360 533 404 549; x_wconf 96\\'>Sale</span>\\n      <span class=\\'ocrx_word\\' id=\\'word_1_72\\' title=\\'bbox 429 526 494 557; x_wconf 15\\'>Att</span>\\n      <span class=\\'ocrx_word\\' id=\\'word_1_73\\' title=\\'bbox 0 0 620 1219; x_wconf 24\\'>+</span>\\n      <span class=\\'ocrx_word\\' id=\\'word_1_74\\' title=\\'bbox 457 526 508 548; x_wconf 33\\'>had</span>\\n     </span>\\n    </p>\\n   </div>\\n   <div class=\\'ocr_carea\\' id=\\'block_1_10\\' title=\"bbox 27 570 510 610\">\\n    <p class=\\'ocr_par\\' id=\\'par_1_10\\' lang=\\'eng\\' title=\"bbox 27 570 510 610\">\\n     <span class=\\'ocr_line\\' id=\\'line_1_19\\' title=\"bbox 28 570 510 587; baseline 0.006 -3; x_size 20; x_descenders 5; x_ascenders 5\">\\n      <span class=\\'ocrx_word\\' id=\\'word_1_75\\' title=\\'bbox 28 570 70 585; x_wconf 20\\'>OC.</span>\\n      <span class=\\'ocrx_word\\' id=\\'word_1_76\\' title=\\'bbox 88 571 144 585; x_wconf 49\\'>WHITE:</span>\\n      <span class=\\'ocrx_word\\' id=\\'word_1_77\\' title=\\'bbox 171 570 179 586; x_wconf 5\\'>Ge</span>\\n      <span class=\\'ocrx_word\\' id=\\'word_1_78\\' title=\\'bbox 185 571 215 586; x_wconf 0\\'>iae</span>\\n      <span class=\\'ocrx_word\\' id=\\'word_1_79\\' title=\\'bbox 253 571 309 586; x_wconf 35\\'>S018</span>\\n      <span class=\\'ocrx_word\\' id=\\'word_1_80\\' title=\\'bbox 335 572 346 586; x_wconf 42\\'>=O</span>\\n      <span class=\\'ocrx_word\\' id=\\'word_1_81\\' title=\\'bbox 393 572 404 586; x_wconf 29\\'>0</span>\\n      <span class=\\'ocrx_word\\' id=\\'word_1_82\\' title=\\'bbox 464 572 510 587; x_wconf 90\\'>6.00</span>\\n     </span>\\n     <span class=\\'ocr_line\\' id=\\'line_1_20\\' title=\"bbox 27 593 510 610; baseline 0.006 -3; x_size 20; x_descenders 5; x_ascenders 5\">\\n      <span class=\\'ocrx_word\\' id=\\'word_1_83\\' title=\\'bbox 27 593 98 608; x_wconf 50\\'>WHOLEM.</span>\\n      <span class=\\'ocrx_word\\' id=\\'word_1_84\\' title=\\'bbox 112 594 127 608; x_wconf 95\\'>AL</span>\\n      <span class=\\'ocrx_word\\' id=\\'word_1_85\\' title=\\'bbox 170 593 214 608; x_wconf 29\\'>eee)</span>\\n      <span class=\\'ocrx_word\\' id=\\'word_1_86\\' title=\\'bbox 253 594 345 609; x_wconf 11\\'>S518</span>\\n      <span class=\\'ocrx_word\\' id=\\'word_1_87\\' title=\\'bbox 394 595 403 609; x_wconf 96\\'>5</span>\\n      <span class=\\'ocrx_word\\' id=\\'word_1_88\\' title=\\'bbox 455 595 510 610; x_wconf 75\\'>13.90</span>\\n     </span>\\n    </p>\\n   </div>\\n   <div class=\\'ocr_carea\\' id=\\'block_1_11\\' title=\"bbox 128 525 195 529\">\\n    <p class=\\'ocr_par\\' id=\\'par_1_11\\' lang=\\'eng\\' title=\"bbox 128 525 195 529\">\\n     <span class=\\'ocr_line\\' id=\\'line_1_21\\' title=\"bbox 128 525 195 529; baseline 0 0; x_size 2; x_descenders -1; x_ascenders 1\">\\n      <span class=\\'ocrx_word\\' id=\\'word_1_89\\' title=\\'bbox 128 525 195 529; x_wconf 95\\'> </span>\\n     </span>\\n    </p>\\n   </div>\\n   <div class=\\'ocr_carea\\' id=\\'block_1_12\\' title=\"bbox 273 526 319 529\">\\n    <p class=\\'ocr_par\\' id=\\'par_1_12\\' lang=\\'eng\\' title=\"bbox 273 526 319 529\">\\n     <span class=\\'ocr_line\\' id=\\'line_1_22\\' title=\"bbox 273 526 319 529; baseline 0 0; x_size 1.5; x_descenders -0.75; x_ascenders 0.75\">\\n      <span class=\\'ocrx_word\\' id=\\'word_1_90\\' title=\\'bbox 273 526 319 529; x_wconf 95\\'> </span>\\n     </span>\\n    </p>\\n   </div>\\n   <div class=\\'ocr_carea\\' id=\\'block_1_13\\' title=\"bbox 379 526 433 529\">\\n    <p class=\\'ocr_par\\' id=\\'par_1_13\\' lang=\\'eng\\' title=\"bbox 379 526 433 529\">\\n     <span class=\\'ocr_line\\' id=\\'line_1_23\\' title=\"bbox 379 526 433 529; baseline 0 0; x_size 1.5; x_descenders -0.75; x_ascenders 0.75\">\\n      <span class=\\'ocrx_word\\' id=\\'word_1_91\\' title=\\'bbox 379 526 433 529; x_wconf 95\\'> </span>\\n     </span>\\n    </p>\\n   </div>\\n   <div class=\\'ocr_carea\\' id=\\'block_1_14\\' title=\"bbox 28 616 510 809\">\\n    <p class=\\'ocr_par\\' id=\\'par_1_14\\' lang=\\'eng\\' title=\"bbox 28 616 510 687\">\\n     <span class=\\'ocr_line\\' id=\\'line_1_24\\' title=\"bbox 28 616 510 632; baseline 0.004 -2; x_size 17.60606; x_descenders 3.6060605; x_ascenders 4.4545455\">\\n      <span class=\\'ocrx_word\\' id=\\'word_1_92\\' title=\\'bbox 28 616 62 630; x_wconf 67\\'>0.C</span>\\n      <span class=\\'ocrx_word\\' id=\\'word_1_93\\' title=\\'bbox 79 616 133 631; x_wconf 87\\'>JUMBO</span>\\n      <span class=\\'ocrx_word\\' id=\\'word_1_94\\' title=\\'bbox 170 616 216 631; x_wconf 89\\'>2.97</span>\\n      <span class=\\'ocrx_word\\' id=\\'word_1_95\\' title=\\'bbox 252 618 263 631; x_wconf 70\\'>a</span>\\n      <span class=\\'ocrx_word\\' id=\\'word_1_96\\' title=\\'bbox 300 617 309 632; x_wconf 58\\'>2)</span>\\n      <span class=\\'ocrx_word\\' id=\\'word_1_97\\' title=\\'bbox 335 617 345 632; x_wconf 0\\'>o</span>\\n      <span class=\\'ocrx_word\\' id=\\'word_1_98\\' title=\\'bbox 396 618 405 632; x_wconf 93\\'>1</span>\\n      <span class=\\'ocrx_word\\' id=\\'word_1_99\\' title=\\'bbox 425 618 530 640; x_wconf 39\\'>a</span>\\n     </span>\\n     <span class=\\'ocr_line\\' id=\\'line_1_25\\' title=\"bbox 193 647 509 687; baseline 0.006 -9; x_size 40; x_descenders 8; x_ascenders 10\">\\n      <span class=\\'ocrx_word\\' id=\\'word_1_100\\' title=\\'bbox 193 647 249 679; x_wconf 92\\'>Total</span>\\n      <span class=\\'ocrx_word\\' id=\\'word_1_101\\' title=\\'bbox 264 648 288 679; x_wconf 0\\'>Q%</span>\\n      <span class=\\'ocrx_word\\' id=\\'word_1_102\\' title=\\'bbox 300 647 400 687; x_wconf 95\\'>supplies:</span>\\n      <span class=\\'ocrx_word\\' id=\\'word_1_103\\' title=\\'bbox 454 649 509 680; x_wconf 51\\'>16.87</span>\\n     </span>\\n    </p>\\n\\n    <p class=\\'ocr_par\\' id=\\'par_1_15\\' lang=\\'eng\\' title=\"bbox 28 698 510 809\">\\n     <span class=\\'ocr_line\\' id=\\'line_1_26\\' title=\"bbox 28 698 510 716; baseline 0.006 -3; x_size 18.863636; x_descenders 3.8636365; x_ascenders 4.772727\">\\n      <span class=\\'ocrx_word\\' id=\\'word_1_104\\' title=\\'bbox 28 698 97 713; x_wconf 86\\'>CR-COR</span>\\n      <span class=\\'ocrx_word\\' id=\\'word_1_105\\' title=\\'bbox 169 698 214 714; x_wconf 42\\'>0.72</span>\\n      <span class=\\'ocrx_word\\' id=\\'word_1_106\\' title=\\'bbox 241 699 263 714; x_wconf 87\\'>2</span>\\n      <span class=\\'ocrx_word\\' id=\\'word_1_107\\' title=\\'bbox 299 700 310 714; x_wconf 48\\'>6</span>\\n      <span class=\\'ocrx_word\\' id=\\'word_1_108\\' title=\\'bbox 334 700 345 714; x_wconf 68\\'>@</span>\\n      <span class=\\'ocrx_word\\' id=\\'word_1_109\\' title=\\'bbox 383 700 404 715; x_wconf 95\\'>20</span>\\n      <span class=\\'ocrx_word\\' id=\\'word_1_110\\' title=\\'bbox 455 701 510 716; x_wconf 48\\'>14.49</span>\\n     </span>\\n     <span class=\\'ocr_line\\' id=\\'line_1_27\\' title=\"bbox 51 729 510 770; baseline 0.007 -10; x_size 40; x_descenders 8; x_ascenders 10\">\\n      <span class=\\'ocrx_word\\' id=\\'word_1_111\\' title=\\'bbox 51 729 105 761; x_wconf 95\\'>Total</span>\\n      <span class=\\'ocrx_word\\' id=\\'word_1_112\\' title=\\'bbox 123 731 146 761; x_wconf 88\\'>6%</span>\\n      <span class=\\'ocrx_word\\' id=\\'word_1_113\\' title=\\'bbox 159 730 250 769; x_wconf 88\\'>supplies</span>\\n      <span class=\\'ocrx_word\\' id=\\'word_1_114\\' title=\\'bbox 265 730 330 769; x_wconf 95\\'>(excl.</span>\\n      <span class=\\'ocrx_word\\' id=\\'word_1_115\\' title=\\'bbox 347 731 400 770; x_wconf 73\\'>GST);</span>\\n      <span class=\\'ocrx_word\\' id=\\'word_1_116\\' title=\\'bbox 454 733 510 763; x_wconf 57\\'>14.40</span>\\n     </span>\\n     <span class=\\'ocr_line\\' id=\\'line_1_28\\' title=\"bbox 359 779 510 809; baseline 0.007 -1; x_size 36.469696; x_descenders 7.4696975; x_ascenders 9.227273\">\\n      <span class=\\'ocrx_word\\' id=\\'word_1_117\\' title=\\'bbox 359 779 400 809; x_wconf 53\\'>\\xe2\\x80\\x9cST:</span>\\n      <span class=\\'ocrx_word\\' id=\\'word_1_118\\' title=\\'bbox 463 780 510 809; x_wconf 61\\'>0,86</span>\\n     </span>\\n    </p>\\n   </div>\\n   <div class=\\'ocr_carea\\' id=\\'block_1_15\\' title=\"bbox 63 826 531 969\">\\n    <p class=\\'ocr_par\\' id=\\'par_1_16\\' lang=\\'eng\\' title=\"bbox 63 826 531 969\">\\n     <span class=\\'ocr_line\\' id=\\'line_1_29\\' title=\"bbox 63 826 510 867; baseline 0.007 -11; x_size 39; x_descenders 8; x_ascenders 9\">\\n      <span class=\\'ocrx_word\\' id=\\'word_1_119\\' title=\\'bbox 63 828 102 857; x_wconf 0\\'>Tot:</span>\\n      <span class=\\'ocrx_word\\' id=\\'word_1_120\\' title=\\'bbox 155 830 156 834; x_wconf 0\\'>\\xc2\\xa2</span>\\n      <span class=\\'ocrx_word\\' id=\\'word_1_121\\' title=\\'bbox 184 826 262 865; x_wconf 74\\'>supplies</span>\\n      <span class=\\'ocrx_word\\' id=\\'word_1_122\\' title=\\'bbox 276 827 330 866; x_wconf 75\\'>(Inc.</span>\\n      <span class=\\'ocrx_word\\' id=\\'word_1_123\\' title=\\'bbox 347 828 400 867; x_wconf 78\\'>GST):</span>\\n      <span class=\\'ocrx_word\\' id=\\'word_1_124\\' title=\\'bbox 454 829 510 859; x_wconf 66\\'>15.26</span>\\n     </span>\\n     <span class=\\'ocr_line\\' id=\\'line_1_30\\' title=\"bbox 196 873 510 913; baseline 0.006 -8; x_size 38; x_descenders 6; x_ascenders 10\">\\n      <span class=\\'ocrx_word\\' id=\\'word_1_125\\' title=\\'bbox 196 873 248 905; x_wconf 91\\'>Total</span>\\n      <span class=\\'ocrx_word\\' id=\\'word_1_126\\' title=\\'bbox 264 876 288 906; x_wconf 65\\'>@&amp;</span>\\n      <span class=\\'ocrx_word\\' id=\\'word_1_127\\' title=\\'bbox 300 874 400 913; x_wconf 87\\'>supplies:</span>\\n      <span class=\\'ocrx_word\\' id=\\'word_1_128\\' title=\\'bbox 454 877 510 907; x_wconf 46\\'>16.87</span>\\n     </span>\\n     <span class=\\'ocr_line\\' id=\\'line_1_31\\' title=\"bbox 240 925 531 969; baseline 0.007 -13; x_size 43; x_descenders 11; x_ascenders 10\">\\n      <span class=\\'ocrx_word\\' id=\\'word_1_129\\' title=\\'bbox 240 925 296 957; x_wconf 95\\'>Total</span>\\n      <span class=\\'ocrx_word\\' id=\\'word_1_130\\' title=\\'bbox 311 925 400 964; x_wconf 80\\'>Payable:</span>\\n      <span class=\\'ocrx_word\\' id=\\'word_1_131\\' title=\\'bbox 425 928 531 969; x_wconf 42\\'>32.3</span>\\n     </span>\\n    </p>\\n   </div>\\n   <div class=\\'ocr_carea\\' id=\\'block_1_16\\' title=\"bbox 31 989 560 1154\">\\n    <p class=\\'ocr_par\\' id=\\'par_1_17\\' lang=\\'eng\\' title=\"bbox 33 989 111 1003\">\\n     <span class=\\'ocr_line\\' id=\\'line_1_32\\' title=\"bbox 33 989 111 1003; baseline 0 0; x_size 18.785713; x_descenders 4.7857141; x_ascenders 4\">\\n      <span class=\\'ocrx_word\\' id=\\'word_1_132\\' title=\\'bbox 33 989 111 1003; x_wconf 4\\'>b.&amp;.9.b</span>\\n     </span>\\n    </p>\\n\\n    <p class=\\'ocr_par\\' id=\\'par_1_18\\' lang=\\'eng\\' title=\"bbox 31 1012 560 1154\">\\n     <span class=\\'ocr_line\\' id=\\'line_1_33\\' title=\"bbox 33 1012 557 1032; baseline 0.006 -6; x_size 19; x_descenders 4; x_ascenders 4\">\\n      <span class=\\'ocrx_word\\' id=\\'word_1_133\\' title=\\'bbox 33 1012 124 1027; x_wconf 90\\'>Received</span>\\n      <span class=\\'ocrx_word\\' id=\\'word_1_134\\' title=\\'bbox 138 1013 196 1027; x_wconf 95\\'>above</span>\\n      <span class=\\'ocrx_word\\' id=\\'word_1_135\\' title=\\'bbox 209 1013 265 1031; x_wconf 95\\'>goods</span>\\n      <span class=\\'ocrx_word\\' id=\\'word_1_136\\' title=\\'bbox 284 1018 302 1028; x_wconf 90\\'>in</span>\\n      <span class=\\'ocrx_word\\' id=\\'word_1_137\\' title=\\'bbox 316 1013 361 1032; x_wconf 96\\'>good</span>\\n      <span class=\\'ocrx_word\\' id=\\'word_1_138\\' title=\\'bbox 375 1013 431 1028; x_wconf 94\\'>order</span>\\n      <span class=\\'ocrx_word\\' id=\\'word_1_139\\' title=\\'bbox 446 1016 557 1029; x_wconf 95\\'>condition.</span>\\n     </span>\\n     <span class=\\'ocr_line\\' id=\\'line_1_34\\' title=\"bbox 32 1035 489 1055; baseline 0.007 -6; x_size 18; x_descenders 3; x_ascenders 4\">\\n      <span class=\\'ocrx_word\\' id=\\'word_1_140\\' title=\\'bbox 32 1035 66 1050; x_wconf 95\\'>The</span>\\n      <span class=\\'ocrx_word\\' id=\\'word_1_141\\' title=\\'bbox 80 1037 183 1054; x_wconf 38\\'>recipient</span>\\n      <span class=\\'ocrx_word\\' id=\\'word_1_142\\' title=\\'bbox 197 1035 220 1050; x_wconf 91\\'>of</span>\\n      <span class=\\'ocrx_word\\' id=\\'word_1_143\\' title=\\'bbox 233 1036 348 1052; x_wconf 48\\'>Gardenia&#39;\\xe2\\x80\\x99s</span>\\n      <span class=\\'ocrx_word\\' id=\\'word_1_144\\' title=\\'bbox 363 1037 454 1055; x_wconf 95\\'>products</span>\\n      <span class=\\'ocrx_word\\' id=\\'word_1_145\\' title=\\'bbox 471 1041 489 1052; x_wconf 95\\'>is</span>\\n     </span>\\n     <span class=\\'ocr_line\\' id=\\'line_1_35\\' title=\"bbox 33 1059 560 1079; baseline 0.008 -6; x_size 19; x_descenders 4; x_ascenders 4\">\\n      <span class=\\'ocrx_word\\' id=\\'word_1_146\\' title=\\'bbox 33 1059 125 1077; x_wconf 96\\'>required</span>\\n      <span class=\\'ocrx_word\\' id=\\'word_1_147\\' title=\\'bbox 139 1061 160 1074; x_wconf 96\\'>to</span>\\n      <span class=\\'ocrx_word\\' id=\\'word_1_148\\' title=\\'bbox 173 1059 219 1075; x_wconf 96\\'>make</span>\\n      <span class=\\'ocrx_word\\' id=\\'word_1_149\\' title=\\'bbox 233 1063 337 1079; x_wconf 96\\'>necessary</span>\\n      <span class=\\'ocrx_word\\' id=\\'word_1_150\\' title=\\'bbox 351 1059 477 1079; x_wconf 96\\'>adjustments</span>\\n      <span class=\\'ocrx_word\\' id=\\'word_1_151\\' title=\\'bbox 494 1063 514 1076; x_wconf 96\\'>to</span>\\n      <span class=\\'ocrx_word\\' id=\\'word_1_152\\' title=\\'bbox 529 1063 560 1077; x_wconf 95\\'>its</span>\\n     </span>\\n     <span class=\\'ocr_line\\' id=\\'line_1_36\\' title=\"bbox 33 1082 466 1102; baseline 0.007 -5; x_size 20; x_descenders 4; x_ascenders 5\">\\n      <span class=\\'ocrx_word\\' id=\\'word_1_153\\' title=\\'bbox 33 1085 89 1101; x_wconf 95\\'>input</span>\\n      <span class=\\'ocrx_word\\' id=\\'word_1_154\\' title=\\'bbox 104 1085 134 1097; x_wconf 96\\'>tax</span>\\n      <span class=\\'ocrx_word\\' id=\\'word_1_155\\' title=\\'bbox 151 1082 228 1102; x_wconf 80\\'>clams,</span>\\n      <span class=\\'ocrx_word\\' id=\\'word_1_156\\' title=\\'bbox 245 1087 266 1098; x_wconf 96\\'>on</span>\\n      <span class=\\'ocrx_word\\' id=\\'word_1_157\\' title=\\'bbox 281 1083 314 1099; x_wconf 96\\'>the</span>\\n      <span class=\\'ocrx_word\\' id=\\'word_1_158\\' title=\\'bbox 327 1084 384 1099; x_wconf 96\\'>basic</span>\\n      <span class=\\'ocrx_word\\' id=\\'word_1_159\\' title=\\'bbox 398 1083 420 1099; x_wconf 95\\'>of</span>\\n      <span class=\\'ocrx_word\\' id=\\'word_1_160\\' title=\\'bbox 434 1084 466 1100; x_wconf 96\\'>the</span>\\n     </span>\\n     <span class=\\'ocr_line\\' id=\\'line_1_37\\' title=\"bbox 32 1108 489 1123; baseline 0.007 -3; x_size 19.264286; x_descenders 5.2642856; x_ascenders 3\">\\n      <span class=\\'ocrx_word\\' id=\\'word_1_161\\' title=\\'bbox 32 1108 159 1123; x_wconf 45\\'>aajustionts</span>\\n      <span class=\\'ocrx_word\\' id=\\'word_1_162\\' title=\\'bbox 174 1111 187 1121; x_wconf 43\\'>si</span>\\n      <span class=\\'ocrx_word\\' id=\\'word_1_163\\' title=\\'bbox 204 1112 231 1121; x_wconf 75\\'>own</span>\\n      <span class=\\'ocrx_word\\' id=\\'word_1_164\\' title=\\'bbox 246 1111 266 1122; x_wconf 93\\'>in</span>\\n      <span class=\\'ocrx_word\\' id=\\'word_1_165\\' title=\\'bbox 281 1108 324 1122; x_wconf 93\\'>this</span>\\n      <span class=\\'ocrx_word\\' id=\\'word_1_166\\' title=\\'bbox 338 1108 370 1122; x_wconf 95\\'>Tax</span>\\n      <span class=\\'ocrx_word\\' id=\\'word_1_167\\' title=\\'bbox 388 1108 466 1123; x_wconf 92\\'>Invoice</span>\\n      <span class=\\'ocrx_word\\' id=\\'word_1_168\\' title=\\'bbox 480 1109 489 1122; x_wconf 92\\'>/</span>\\n     </span>\\n     <span class=\\'ocr_line\\' id=\\'line_1_38\\' title=\"bbox 31 1129 495 1154; baseline 0.006 -10; x_size 20.264286; x_descenders 5.2642856; x_ascenders 4\">\\n      <span class=\\'ocrx_word\\' id=\\'word_1_169\\' title=\\'bbox 27 1129 147 1151; x_wconf 19\\'>Adjustuent</span>\\n      <span class=\\'ocrx_word\\' id=\\'word_1_170\\' title=\\'bbox 139 1131 495 1154; x_wconf 37\\'>Note</span>\\n     </span>\\n    </p>\\n   </div>\\n   <div class=\\'ocr_carea\\' id=\\'block_1_17\\' title=\"bbox 197 1154 432 1173\">\\n    <p class=\\'ocr_par\\' id=\\'par_1_19\\' lang=\\'eng\\' title=\"bbox 197 1154 432 1173\">\\n     <span class=\\'ocr_line\\' id=\\'line_1_39\\' title=\"bbox 197 1154 432 1173; baseline 0.009 -2; x_size 23.333334; x_descenders 5.8333335; x_ascenders 5.8333335\">\\n      <span class=\\'ocrx_word\\' id=\\'word_1_171\\' title=\\'bbox 197 1154 358 1172; x_wconf 95\\'>CUSTOMER&#39;S</span>\\n      <span class=\\'ocrx_word\\' id=\\'word_1_172\\' title=\\'bbox 365 1155 432 1173; x_wconf 95\\'>COPY</span>\\n     </span>\\n    </p>\\n   </div>\\n   <div class=\\'ocr_carea\\' id=\\'block_1_18\\' title=\"bbox 172 1214 252 1219\">\\n    <p class=\\'ocr_par\\' id=\\'par_1_20\\' lang=\\'eng\\' title=\"bbox 172 1214 252 1219\">\\n     <span class=\\'ocr_line\\' id=\\'line_1_40\\' title=\"bbox 172 1214 252 1219; baseline 0 0; x_size 2.5; x_descenders -1.25; x_ascenders 1.25\">\\n      <span class=\\'ocrx_word\\' id=\\'word_1_173\\' title=\\'bbox 172 1214 252 1219; x_wconf 95\\'> </span>\\n     </span>\\n    </p>\\n   </div>\\n   <div class=\\'ocr_carea\\' id=\\'block_1_19\\' title=\"bbox 565 1216 595 1219\">\\n    <p class=\\'ocr_par\\' id=\\'par_1_21\\' lang=\\'eng\\' title=\"bbox 565 1216 595 1219\">\\n     <span class=\\'ocr_line\\' id=\\'line_1_41\\' title=\"bbox 565 1216 595 1219; baseline 0 0; x_size 2; x_descenders -1; x_ascenders 1\">\\n      <span class=\\'ocrx_word\\' id=\\'word_1_174\\' title=\\'bbox 565 1216 595 1219; x_wconf 95\\'> </span>\\n     </span>\\n    </p>\\n   </div>\\n   <div class=\\'ocr_carea\\' id=\\'block_1_20\\' title=\"bbox 614 28 620 1215\">\\n    <p class=\\'ocr_par\\' id=\\'par_1_22\\' lang=\\'eng\\' title=\"bbox 614 28 620 1215\">\\n     <span class=\\'ocr_line\\' id=\\'line_1_42\\' title=\"bbox 614 28 620 1215; baseline 0 0; x_size 593.5; x_descenders -296.75; x_ascenders 296.75\">\\n      <span class=\\'ocrx_word\\' id=\\'word_1_175\\' title=\\'bbox 614 28 620 1215; x_wconf 95\\'> </span>\\n     </span>\\n    </p>\\n   </div>\\n  </div>\\n </body>\\n</html>\\n'"
      ]
     },
     "execution_count": 9,
     "metadata": {},
     "output_type": "execute_result"
    }
   ],
   "source": [
    "hocr = pytesseract.image_to_pdf_or_hocr('image.jpg', extension='hocr')\n",
    "hocr"
   ]
  },
  {
   "cell_type": "markdown",
   "id": "champion-faculty",
   "metadata": {},
   "source": [
    "### How to add additional options"
   ]
  },
  {
   "cell_type": "code",
   "execution_count": 10,
   "id": "coupled-minutes",
   "metadata": {},
   "outputs": [
    {
     "name": "stdout",
     "output_type": "stream",
     "text": [
      "[\n",
      "\n",
      "ABC Ventures\n",
      "\n",
      "BILL TO\n",
      "\n",
      "INVOICE #\n",
      "\n",
      "101\n",
      "\n",
      "XYZ InfoTech\n",
      "\n",
      "INVOICE DATE\n",
      "\n",
      "28/06/2020\n",
      "\n",
      "DLF Phase 3\n",
      "\n",
      "Gurgaon\n",
      "\n",
      "Invoice Total\n",
      "\n",
      "~ 52,000.00\n",
      "\n",
      "DESCRIPTION\n",
      "\n",
      "AMOUNT\n",
      "\n",
      "Laptop\n",
      "\n",
      "40,000.00\n",
      "\n",
      "2,000.00\n",
      "\n",
      "Headphone\n",
      "\n",
      "Bluetooth Speaker\n",
      "\n",
      "8,000.00\n",
      "\n",
      "Screen Guard\n",
      "\n",
      "2,000.00\n",
      "\n",
      "TERMS & CONDITIONS\n",
      "\n",
      "Payment is due within 15 days\n",
      "\n",
      "[oT\n",
      "\f",
      "\n"
     ]
    }
   ],
   "source": [
    "custom_oem_psm_config = r'--oem 3 --psm 11'\n",
    "print(pytesseract.image_to_string('invoice.jpg', config=custom_oem_psm_config))"
   ]
  },
  {
   "cell_type": "code",
   "execution_count": null,
   "id": "736bf0d7",
   "metadata": {},
   "outputs": [],
   "source": []
  }
 ],
 "metadata": {
  "kernelspec": {
   "display_name": "Python 3 (ipykernel)",
   "language": "python",
   "name": "python3"
  },
  "language_info": {
   "codemirror_mode": {
    "name": "ipython",
    "version": 3
   },
   "file_extension": ".py",
   "mimetype": "text/x-python",
   "name": "python",
   "nbconvert_exporter": "python",
   "pygments_lexer": "ipython3",
   "version": "3.9.7"
  }
 },
 "nbformat": 4,
 "nbformat_minor": 5
}
